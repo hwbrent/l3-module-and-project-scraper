{
 "cells": [
  {
   "cell_type": "code",
   "execution_count": 28,
   "metadata": {},
   "outputs": [
    {
     "name": "stdout",
     "output_type": "stream",
     "text": [
      "re 2.2.1\n",
      "ipykernel._version 6.4.1\n",
      "json 2.0.9\n",
      "jupyter_client._version 6.1.12\n",
      "zlib 1.0\n",
      "platform 1.0.8\n",
      "_ctypes 1.1.0\n",
      "ctypes 1.1.0\n",
      "zmq.sugar.version 22.2.1\n",
      "zmq.sugar 22.2.1\n",
      "zmq 22.2.1\n",
      "traitlets._version 5.1.0\n",
      "traitlets 5.1.0\n",
      "logging 0.5.1.2\n",
      "argparse 1.1\n",
      "jupyter_core.version 4.8.1\n",
      "jupyter_core 4.8.1\n",
      "jupyter_client 6.1.12\n",
      "ipykernel 6.4.1\n",
      "colorama 0.4.4\n",
      "_curses b'2.2'\n",
      "IPython.core.release 7.29.0\n",
      "pygments 2.10.0\n",
      "ptyprocess 0.7.0\n",
      "pexpect 4.8.0\n",
      "decorator 5.1.0\n",
      "pickleshare 0.7.5\n",
      "backcall 0.2.0\n",
      "wcwidth 0.2.5\n",
      "prompt_toolkit 3.0.20\n",
      "parso 0.8.2\n",
      "jedi 0.18.0\n",
      "urllib.request 3.9\n",
      "IPython 7.29.0\n",
      "ipython_genutils._version 0.2.0\n",
      "ipython_genutils 0.2.0\n",
      "dateutil 2.8.2\n",
      "six 1.16.0\n",
      "_decimal 1.70\n",
      "decimal 1.70\n",
      "distutils 3.9.7\n",
      "debugpy 1.4.1\n",
      "xmlrpc.client 3.9\n",
      "socketserver 0.4\n",
      "http.server 0.6\n",
      "pkg_resources._vendor.appdirs 1.4.3\n",
      "pkg_resources.extern.appdirs 1.4.3\n",
      "pkg_resources._vendor.packaging.__about__ 20.4\n",
      "pkg_resources._vendor.packaging 20.4\n",
      "pkg_resources.extern.packaging 20.4\n",
      "pkg_resources._vendor.pyparsing 2.2.1\n",
      "pkg_resources.extern.pyparsing 2.2.1\n",
      "_pydevd_frame_eval.vendored.bytecode 0.12.0\n",
      "_pydev_bundle.fsnotify 0.1.5\n",
      "pydevd 2.4.1\n",
      "ctypes.macholib 1.0\n",
      "appnope 0.1.2\n",
      "ipywidgets._version 7.6.5\n",
      "ipywidgets 7.6.5\n",
      "mkl 2.4.0\n",
      "numpy.core._multiarray_umath 3.1\n",
      "numpy.core 1.20.3\n",
      "numpy.linalg._umath_linalg 0.1.5\n",
      "numpy.lib 1.20.3\n",
      "numpy 1.20.3\n",
      "pytz 2021.3\n",
      "numexpr 2.7.3\n",
      "bottleneck 1.3.2\n",
      "_csv 1.0\n",
      "csv 1.0\n",
      "pandas 1.3.4\n"
     ]
    }
   ],
   "source": [
    "import json\n",
    "\n",
    "import pandas as pd\n",
    "print(pd.__version__)"
   ]
  },
  {
   "cell_type": "markdown",
   "metadata": {},
   "source": [
    "#### Turn the JSON file into a Pandas DataFrame"
   ]
  },
  {
   "cell_type": "markdown",
   "metadata": {},
   "source": []
  }
 ],
 "metadata": {
  "kernelspec": {
   "display_name": "base",
   "language": "python",
   "name": "python3"
  },
  "language_info": {
   "codemirror_mode": {
    "name": "ipython",
    "version": 3
   },
   "file_extension": ".py",
   "mimetype": "text/x-python",
   "name": "python",
   "nbconvert_exporter": "python",
   "pygments_lexer": "ipython3",
   "version": "3.9.7"
  },
  "orig_nbformat": 4
 },
 "nbformat": 4,
 "nbformat_minor": 2
}
